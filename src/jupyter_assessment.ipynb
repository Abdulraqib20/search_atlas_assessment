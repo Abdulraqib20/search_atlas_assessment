{
 "cells": [
  {
   "cell_type": "markdown",
   "id": "2f43c7aa",
   "metadata": {},
   "source": [
    "# Search Atlas Live Assessment - Data Scientist\n",
    "\n",
    "**Interview Date: Wednesday, August 20th, 2025**   <br>\n",
    "**Interviewer: João** <br>\n",
    "**Focus: Python & Data Analysis for SEO/Marketing**"
   ]
  },
  {
   "cell_type": "markdown",
   "id": "867c75f8",
   "metadata": {},
   "source": [
    "# 3️⃣ Jupyter Notebook Skills Test (20 min)"
   ]
  },
  {
   "cell_type": "code",
   "execution_count": 20,
   "id": "57c45f52",
   "metadata": {},
   "outputs": [],
   "source": [
    "import numpy as np\n",
    "import pandas as pd\n",
    "# pd.set_option('max.display_columns', None)\n",
    "import matplotlib.pyplot as plt\n",
    "import seaborn as sns\n",
    "sns.set_theme(style='white', palette='muted')\n",
    "from scipy import stats"
   ]
  },
  {
   "cell_type": "code",
   "execution_count": 5,
   "id": "c6b57224",
   "metadata": {},
   "outputs": [
    {
     "name": "stdout",
     "output_type": "stream",
     "text": [
      "Collecting ucimlrepo\n",
      "  Downloading ucimlrepo-0.0.7-py3-none-any.whl.metadata (5.5 kB)\n",
      "Requirement already satisfied: pandas>=1.0.0 in /opt/anaconda3/envs/raqib/lib/python3.11/site-packages (from ucimlrepo) (2.3.1)\n",
      "Requirement already satisfied: certifi>=2020.12.5 in /opt/anaconda3/envs/raqib/lib/python3.11/site-packages (from ucimlrepo) (2025.8.3)\n",
      "Requirement already satisfied: numpy>=1.23.2 in /opt/anaconda3/envs/raqib/lib/python3.11/site-packages (from pandas>=1.0.0->ucimlrepo) (2.3.2)\n",
      "Requirement already satisfied: python-dateutil>=2.8.2 in /opt/anaconda3/envs/raqib/lib/python3.11/site-packages (from pandas>=1.0.0->ucimlrepo) (2.9.0.post0)\n",
      "Requirement already satisfied: pytz>=2020.1 in /opt/anaconda3/envs/raqib/lib/python3.11/site-packages (from pandas>=1.0.0->ucimlrepo) (2025.2)\n",
      "Requirement already satisfied: tzdata>=2022.7 in /opt/anaconda3/envs/raqib/lib/python3.11/site-packages (from pandas>=1.0.0->ucimlrepo) (2025.2)\n",
      "Requirement already satisfied: six>=1.5 in /opt/anaconda3/envs/raqib/lib/python3.11/site-packages (from python-dateutil>=2.8.2->pandas>=1.0.0->ucimlrepo) (1.17.0)\n",
      "Downloading ucimlrepo-0.0.7-py3-none-any.whl (8.0 kB)\n",
      "Installing collected packages: ucimlrepo\n",
      "Successfully installed ucimlrepo-0.0.7\n"
     ]
    }
   ],
   "source": [
    "!pip install ucimlrepo"
   ]
  },
  {
   "cell_type": "markdown",
   "id": "a9e1bf61",
   "metadata": {},
   "source": [
    "## Data Loading & Exploration"
   ]
  },
  {
   "cell_type": "code",
   "execution_count": null,
   "id": "7947c07d",
   "metadata": {},
   "outputs": [
    {
     "name": "stdout",
     "output_type": "stream",
     "text": [
      "Displaying the first 5 rows in the dataset\n"
     ]
    },
    {
     "data": {
      "application/vnd.microsoft.datawrangler.viewer.v0+json": {
       "columns": [
        {
         "name": "index",
         "rawType": "int64",
         "type": "integer"
        },
        {
         "name": "sepal_length",
         "rawType": "float64",
         "type": "float"
        },
        {
         "name": "sepal_width",
         "rawType": "float64",
         "type": "float"
        },
        {
         "name": "petal_length",
         "rawType": "float64",
         "type": "float"
        },
        {
         "name": "petal_width",
         "rawType": "float64",
         "type": "float"
        },
        {
         "name": "species",
         "rawType": "object",
         "type": "string"
        }
       ],
       "ref": "78437891-4906-4400-988a-2e444ef50ff6",
       "rows": [
        [
         "0",
         "5.1",
         "3.5",
         "1.4",
         "0.2",
         "setosa"
        ],
        [
         "1",
         "4.9",
         "3.0",
         "1.4",
         "0.2",
         "setosa"
        ],
        [
         "2",
         "4.7",
         "3.2",
         "1.3",
         "0.2",
         "setosa"
        ],
        [
         "3",
         "4.6",
         "3.1",
         "1.5",
         "0.2",
         "setosa"
        ],
        [
         "4",
         "5.0",
         "3.6",
         "1.4",
         "0.2",
         "setosa"
        ]
       ],
       "shape": {
        "columns": 5,
        "rows": 5
       }
      },
      "text/html": [
       "<div>\n",
       "<style scoped>\n",
       "    .dataframe tbody tr th:only-of-type {\n",
       "        vertical-align: middle;\n",
       "    }\n",
       "\n",
       "    .dataframe tbody tr th {\n",
       "        vertical-align: top;\n",
       "    }\n",
       "\n",
       "    .dataframe thead th {\n",
       "        text-align: right;\n",
       "    }\n",
       "</style>\n",
       "<table border=\"1\" class=\"dataframe\">\n",
       "  <thead>\n",
       "    <tr style=\"text-align: right;\">\n",
       "      <th></th>\n",
       "      <th>sepal_length</th>\n",
       "      <th>sepal_width</th>\n",
       "      <th>petal_length</th>\n",
       "      <th>petal_width</th>\n",
       "      <th>species</th>\n",
       "    </tr>\n",
       "  </thead>\n",
       "  <tbody>\n",
       "    <tr>\n",
       "      <th>0</th>\n",
       "      <td>5.1</td>\n",
       "      <td>3.5</td>\n",
       "      <td>1.4</td>\n",
       "      <td>0.2</td>\n",
       "      <td>setosa</td>\n",
       "    </tr>\n",
       "    <tr>\n",
       "      <th>1</th>\n",
       "      <td>4.9</td>\n",
       "      <td>3.0</td>\n",
       "      <td>1.4</td>\n",
       "      <td>0.2</td>\n",
       "      <td>setosa</td>\n",
       "    </tr>\n",
       "    <tr>\n",
       "      <th>2</th>\n",
       "      <td>4.7</td>\n",
       "      <td>3.2</td>\n",
       "      <td>1.3</td>\n",
       "      <td>0.2</td>\n",
       "      <td>setosa</td>\n",
       "    </tr>\n",
       "    <tr>\n",
       "      <th>3</th>\n",
       "      <td>4.6</td>\n",
       "      <td>3.1</td>\n",
       "      <td>1.5</td>\n",
       "      <td>0.2</td>\n",
       "      <td>setosa</td>\n",
       "    </tr>\n",
       "    <tr>\n",
       "      <th>4</th>\n",
       "      <td>5.0</td>\n",
       "      <td>3.6</td>\n",
       "      <td>1.4</td>\n",
       "      <td>0.2</td>\n",
       "      <td>setosa</td>\n",
       "    </tr>\n",
       "  </tbody>\n",
       "</table>\n",
       "</div>"
      ],
      "text/plain": [
       "   sepal_length  sepal_width  petal_length  petal_width species\n",
       "0           5.1          3.5           1.4          0.2  setosa\n",
       "1           4.9          3.0           1.4          0.2  setosa\n",
       "2           4.7          3.2           1.3          0.2  setosa\n",
       "3           4.6          3.1           1.5          0.2  setosa\n",
       "4           5.0          3.6           1.4          0.2  setosa"
      ]
     },
     "execution_count": 33,
     "metadata": {},
     "output_type": "execute_result"
    }
   ],
   "source": [
    "# load dataset from Seaborn as stated in the Google Docs\n",
    "\n",
    "data = sns.load_dataset('iris')\n",
    "print(\"Displaying the first 5 rows in the dataset\")\n",
    "data.head() # display the first 5 rows"
   ]
  },
  {
   "cell_type": "markdown",
   "id": "54082d79",
   "metadata": {},
   "source": [
    "## Data Visualization"
   ]
  },
  {
   "cell_type": "code",
   "execution_count": 50,
   "id": "2a3201bb",
   "metadata": {},
   "outputs": [
    {
     "data": {
      "image/png": "[encoded data removed]",
      "text/plain": [
       "<Figure size 1000x600 with 1 Axes>"
      ]
     },
     "metadata": {},
     "output_type": "display_data"
    }
   ],
   "source": [
    "plt.figure(figsize=[10, 6])\n",
    "\n",
    "sns.scatterplot(data=data, x='sepal_length', y='sepal_width', hue='species')\n",
    "plt.title('IRIS DATASET: Sepal length vs Sepal Width by Species')\n",
    "plt.xlabel('Sepal Length (cm)')\n",
    "plt.ylabel('Sepal Width (cm)')\n",
    "plt.legend(title='Species', frameon=True, fancybox=True, shadow=True)\n",
    "plt.grid(True, alpha=0.2)\n",
    "plt.tight_layout()\n",
    "plt.show();"
   ]
  },
  {
   "cell_type": "markdown",
   "id": "44ee7624",
   "metadata": {},
   "source": [
    "## Data Analysis"
   ]
  },
  {
   "cell_type": "code",
   "execution_count": 40,
   "id": "d27df102",
   "metadata": {},
   "outputs": [
    {
     "data": {
      "application/vnd.microsoft.datawrangler.viewer.v0+json": {
       "columns": [
        {
         "name": "species",
         "rawType": "object",
         "type": "string"
        },
        {
         "name": "mean",
         "rawType": "float64",
         "type": "float"
        },
        {
         "name": "median",
         "rawType": "float64",
         "type": "float"
        }
       ],
       "ref": "cc5dde3d-d5a4-485d-8d7c-ab73a3cc3a1f",
       "rows": [
        [
         "setosa",
         "1.462",
         "1.5"
        ],
        [
         "versicolor",
         "4.26",
         "4.35"
        ],
        [
         "virginica",
         "5.552",
         "5.55"
        ]
       ],
       "shape": {
        "columns": 2,
        "rows": 3
       }
      },
      "text/html": [
       "<div>\n",
       "<style scoped>\n",
       "    .dataframe tbody tr th:only-of-type {\n",
       "        vertical-align: middle;\n",
       "    }\n",
       "\n",
       "    .dataframe tbody tr th {\n",
       "        vertical-align: top;\n",
       "    }\n",
       "\n",
       "    .dataframe thead th {\n",
       "        text-align: right;\n",
       "    }\n",
       "</style>\n",
       "<table border=\"1\" class=\"dataframe\">\n",
       "  <thead>\n",
       "    <tr style=\"text-align: right;\">\n",
       "      <th></th>\n",
       "      <th>mean</th>\n",
       "      <th>median</th>\n",
       "    </tr>\n",
       "    <tr>\n",
       "      <th>species</th>\n",
       "      <th></th>\n",
       "      <th></th>\n",
       "    </tr>\n",
       "  </thead>\n",
       "  <tbody>\n",
       "    <tr>\n",
       "      <th>setosa</th>\n",
       "      <td>1.462</td>\n",
       "      <td>1.50</td>\n",
       "    </tr>\n",
       "    <tr>\n",
       "      <th>versicolor</th>\n",
       "      <td>4.260</td>\n",
       "      <td>4.35</td>\n",
       "    </tr>\n",
       "    <tr>\n",
       "      <th>virginica</th>\n",
       "      <td>5.552</td>\n",
       "      <td>5.55</td>\n",
       "    </tr>\n",
       "  </tbody>\n",
       "</table>\n",
       "</div>"
      ],
      "text/plain": [
       "             mean  median\n",
       "species                  \n",
       "setosa      1.462    1.50\n",
       "versicolor  4.260    4.35\n",
       "virginica   5.552    5.55"
      ]
     },
     "execution_count": 40,
     "metadata": {},
     "output_type": "execute_result"
    }
   ],
   "source": [
    "# computing the mean of petal_length\n",
    "\n",
    "petal_stats = data.groupby('species')['petal_length'].agg(\n",
    "    ['mean', 'median']\n",
    ").round(3)\n",
    "petal_stats"
   ]
  },
  {
   "cell_type": "markdown",
   "id": "864640d6",
   "metadata": {},
   "source": [
    "## Use of Magic Commands"
   ]
  },
  {
   "cell_type": "code",
   "execution_count": 46,
   "id": "e1da584d",
   "metadata": {},
   "outputs": [],
   "source": [
    "%matplotlib inline"
   ]
  },
  {
   "cell_type": "code",
   "execution_count": 51,
   "id": "fe63ef90",
   "metadata": {},
   "outputs": [
    {
     "name": "stdout",
     "output_type": "stream",
     "text": [
      "Timing custome sorting function on petal width\n",
      "CPU times: user 67 μs, sys: 8 μs, total: 75 μs\n",
      "Wall time: 79.9 μs\n",
      "First 5 sorted values: [np.float64(0.1), np.float64(0.1), np.float64(0.1), np.float64(0.1), np.float64(0.1)]\n",
      "Total valaues sorted: 150\n"
     ]
    }
   ],
   "source": [
    "def custom_petal_width(data):\n",
    "\n",
    "    return sorted(data['petal_width'].values)\n",
    "\n",
    "print(\"Timing custome sorting function on petal width\")\n",
    "%time result = custom_petal_width(data)\n",
    "\n",
    "print(f\"First 5 sorted values: {result[:5]}\")\n",
    "print(f\"Total valaues sorted: {len(result)}\")"
   ]
  },
  {
   "cell_type": "markdown",
   "id": "3a2350e1",
   "metadata": {},
   "source": [
    "## Explanation of Steps 4 to 6\n",
    "- Importing pandas as pd alias for data preparation\n",
    "- importing numpy as ns alias\n",
    "- importiung matplotlib.pyplot as plt for visulaization\n",
    "- %matplotlib inline (to make it inline so we can run the visualizations in a notebook cell properly)"
   ]
  },
  {
   "cell_type": "markdown",
   "id": "265ea9b7",
   "metadata": {},
   "source": [
    "### Data Visualization Results\n",
    "\n",
    "**Scatter Plot Analysis:** the sepla length vs sepal width scatter plot revealed three disticnt clusters corresponding to the iris species\n",
    "\n",
    "**Setosa (blue)**: Forms a tight cluster in the upper-left region with shorter sepal length ubut higher sepal width\n",
    "\n",
    "**Versicolor (orange)**: Occupies the mioddle region with moderate values for both dimensions\n",
    "\n",
    "**Virginica (Green)**: Concentrated in the lower right region with longer sepal length but lower sepal width"
   ]
  },
  {
   "cell_type": "markdown",
   "id": "9e6aefc2",
   "metadata": {},
   "source": [
    "## 1️⃣ Fibonacci Sequence (5 min)"
   ]
  },
  {
   "cell_type": "code",
   "execution_count": 43,
   "id": "ce37d752",
   "metadata": {},
   "outputs": [
    {
     "name": "stdout",
     "output_type": "stream",
     "text": [
      "Fibonacci Sequence(1) = [0]\n",
      "Fibonacci Sequence(2) = [0, 1]\n",
      "Fibonacci Sequence(5) = [0, 1, 1, 2, 3]\n",
      "Fibonacci Sequence(10) = [0, 1, 1, 2, 3, 5, 8, 13, 21, 34]\n",
      "Fibonacci Sequence(15) = [0, 1, 1, 2, 3, 5, 8, 13, 21, 34, 55, 89, 144, 233, 377]\n"
     ]
    }
   ],
   "source": [
    "def fibonacci_sequence(n):\n",
    "    if n <= 0:\n",
    "        return []\n",
    "    elif n == 1:\n",
    "        return [0]\n",
    "    elif n == 2:\n",
    "        return [0, 1]\n",
    "\n",
    "    # initalize the sequence with the first 2 numbers\n",
    "    fib_sequence = [0,1]\n",
    "\n",
    "    # generate the remainiong numbers iteratively\n",
    "    for i in range(2, n):\n",
    "        next_fib = fib_sequence[i-1] + fib_sequence[i-2]\n",
    "        fib_sequence.append(next_fib)\n",
    "\n",
    "    return fib_sequence\n",
    "\n",
    "for test in [1, 2, 5, 10, 15]:\n",
    "    result = fibonacci_sequence(test)\n",
    "    print(f\"Fibonacci Sequence({test}) = {result}\")"
   ]
  },
  {
   "cell_type": "code",
   "execution_count": 45,
   "id": "3d3f69e7",
   "metadata": {},
   "outputs": [
    {
     "name": "stdout",
     "output_type": "stream",
     "text": [
      "Verification for n = 10:\n",
      "Expected: [0, 1, 1, 2, 3, 5, 8, 13, 21, 34]\n",
      "Actual: [0, 1, 1, 2, 3, 5, 8, 13, 21, 34]\n",
      "Correct: True\n"
     ]
    }
   ],
   "source": [
    "# verify for n =10\n",
    "expected_10 = [0, 1, 1, 2, 3, 5, 8, 13, 21, 34]\n",
    "actual_10 = fibonacci_sequence(10)\n",
    "print(f\"Verification for n = 10:\")\n",
    "print(f\"Expected: {expected_10}\")\n",
    "print(f\"Actual: {actual_10}\")\n",
    "\n",
    "print(f\"Correct: {expected_10 == actual_10}\")"
   ]
  },
  {
   "cell_type": "markdown",
   "id": "bae0466b",
   "metadata": {},
   "source": [
    "# **N/B: I WAS TOLD NOT TO TOUCH NUMBER 2 QUESTION AS THERE IS NO DATASET TO USE SO I ONLY SOLVED QUESTIONS 3 AND 1 ONLY, THANK YOU!!!**"
   ]
  }
 ],
 "metadata": {
  "kernelspec": {
   "display_name": "raqib",
   "language": "python",
   "name": "python3"
  },
  "language_info": {
   "codemirror_mode": {
    "name": "ipython",
    "version": 3
   },
   "file_extension": ".py",
   "mimetype": "text/x-python",
   "name": "python",
   "nbconvert_exporter": "python",
   "pygments_lexer": "ipython3",
   "version": "3.11.13"
  }
 },
 "nbformat": 4,
 "nbformat_minor": 5
}
